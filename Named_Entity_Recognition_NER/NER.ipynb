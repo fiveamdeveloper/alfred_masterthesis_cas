{
 "cells": [
  {
   "cell_type": "markdown",
   "metadata": {},
   "source": [
    "### Named Entity Recognition mit spaCy"
   ]
  },
  {
   "cell_type": "markdown",
   "metadata": {},
   "source": [
    "Zuvor bitte die requirements.txt installieren"
   ]
  },
  {
   "cell_type": "code",
   "execution_count": 2,
   "metadata": {},
   "outputs": [],
   "source": [
    "import spacy\n",
    "import json\n",
    "\n",
    "# Laden des trainierten Modells\n",
    "nlp = spacy.load(\"./model_files\")"
   ]
  },
  {
   "cell_type": "markdown",
   "metadata": {},
   "source": [
    "Der ```user_prompt``` kann zum Testen der Entitätserkennung angepasst werden."
   ]
  },
  {
   "cell_type": "code",
   "execution_count": 16,
   "metadata": {},
   "outputs": [],
   "source": [
    "USER_PROMPT = 'Wie heißt das Produkt SG587?'"
   ]
  },
  {
   "cell_type": "markdown",
   "metadata": {},
   "source": [
    "Durchführung der Entitätserkennung und Ausgabe in einer JSON"
   ]
  },
  {
   "cell_type": "code",
   "execution_count": 17,
   "metadata": {},
   "outputs": [
    {
     "name": "stdout",
     "output_type": "stream",
     "text": [
      "[\n",
      "    {\n",
      "        \"label\": \"Product\",\n",
      "        \"value\": \"SG587\"\n",
      "    }\n",
      "]\n"
     ]
    }
   ],
   "source": [
    "# Verwenden des Modells\n",
    "doc = nlp(USER_PROMPT)\n",
    "\n",
    "entities = [{\"label\": ent.label_, \"value\": ent.text} for ent in doc.ents]\n",
    "\n",
    "# Umwandeln des Dictionaries in einen JSON-String\n",
    "entities_json = json.dumps(entities, indent=4)\n",
    "\n",
    "# Ausgabe der JSON-String\n",
    "print(entities_json)\n"
   ]
  }
 ],
 "metadata": {
  "kernelspec": {
   "display_name": "Python 3",
   "language": "python",
   "name": "python3"
  },
  "language_info": {
   "codemirror_mode": {
    "name": "ipython",
    "version": 3
   },
   "file_extension": ".py",
   "mimetype": "text/x-python",
   "name": "python",
   "nbconvert_exporter": "python",
   "pygments_lexer": "ipython3",
   "version": "3.11.8"
  }
 },
 "nbformat": 4,
 "nbformat_minor": 2
}
