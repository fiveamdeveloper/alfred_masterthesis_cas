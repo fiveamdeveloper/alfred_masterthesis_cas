{
 "cells": [
  {
   "cell_type": "markdown",
   "id": "5bf21c44-205d-45b5-b008-5b2ac2b8dafc",
   "metadata": {},
   "source": [
    "### Neural Network Implementierung"
   ]
  },
  {
   "cell_type": "markdown",
   "id": "e2288086",
   "metadata": {},
   "source": [
    "Dieses Modell führt sowohl die Single- als auch die Multi-Label Klassifikation in einem Neuronalen Netz durch. Darin hat jedes Label einen eigenen Ein- und Ausgang."
   ]
  },
  {
   "cell_type": "code",
   "execution_count": 12,
   "id": "4d6129e0-5212-400d-9c5d-3b52f9b1305b",
   "metadata": {},
   "outputs": [],
   "source": [
    "import numpy as np\n",
    "import pickle\n",
    "import json\n",
    "import pandas as pd\n",
    "import re\n",
    "from keras.models import load_model\n",
    "import tensorflow as tf"
   ]
  },
  {
   "cell_type": "markdown",
   "id": "75952181",
   "metadata": {},
   "source": [
    "Anzeige der Tensorflow Version zur Kontrolle. Bei Abweichenden Versionen kann die Klassifikation fehlschlagen"
   ]
  },
  {
   "cell_type": "code",
   "execution_count": 2,
   "id": "0bb9838d",
   "metadata": {},
   "outputs": [
    {
     "data": {
      "text/plain": [
       "'2.15.0'"
      ]
     },
     "execution_count": 2,
     "metadata": {},
     "output_type": "execute_result"
    }
   ],
   "source": [
    "tf.__version__"
   ]
  },
  {
   "cell_type": "markdown",
   "id": "b131d744",
   "metadata": {},
   "source": [
    "Laden der trainierten Modelle."
   ]
  },
  {
   "cell_type": "code",
   "execution_count": 6,
   "id": "68e54aed-819e-40e4-a9a8-d0bee691167a",
   "metadata": {},
   "outputs": [],
   "source": [
    "VERSION = \"5g2\"\n",
    "\n",
    "# Pfad zum gespeicherten Modell und den Komponenten\n",
    "model_directory = f'./model_files'\n",
    "\n",
    "# Modell laden\n",
    "model_filename = f'{model_directory}/neural_network-v{VERSION}.h5'\n",
    "model = load_model(model_filename)\n",
    "\n",
    "# TfidfVectorizer laden\n",
    "with open(f'{model_directory}/tfidf_vectorizer-v{VERSION}.pkl', 'rb') as file:\n",
    "    tfidf_vectorizer = pickle.load(file)\n",
    "\n",
    "# MultiLabelBinarizer-Instanzen laden\n",
    "with open(f'{model_directory}/required_encoder-v{VERSION}.pkl', 'rb') as file:\n",
    "    mlb_required = pickle.load(file)\n",
    "\n",
    "with open(f'{model_directory}/select_encoder-v{VERSION}.pkl', 'rb') as file:\n",
    "    mlb_select = pickle.load(file)\n",
    "\n",
    "# Fügen Sie ähnliche Blöcke hinzu, um andere Encoder und Binarizer zu laden\n",
    "with open(f'{model_directory}/expand_encoder-v{VERSION}.pkl', 'rb') as file:\n",
    "    mlb_expand = pickle.load(file)\n",
    "\n",
    "with open(f'{model_directory}/expand_select_encoder-v{VERSION}.pkl', 'rb') as file:\n",
    "    mlb_expand_select = pickle.load(file)\n",
    "\n",
    "with open(f'{model_directory}/filter_encoder-v{VERSION}.pkl', 'rb') as file:\n",
    "    mlb_filter = pickle.load(file)\n",
    "\n",
    "# LabelEncoder-Instanzen laden\n",
    "with open(f'{model_directory}/method_encoder-v{VERSION}.pkl', 'rb') as file:\n",
    "    method_encoder = pickle.load(file)\n",
    "\n",
    "with open(f'{model_directory}/endpoint_encoder-v{VERSION}.pkl', 'rb') as file:\n",
    "    endpoint_encoder = pickle.load(file)\n",
    "\n",
    "with open(f'{model_directory}/presentation_encoder-v{VERSION}.pkl', 'rb') as file:\n",
    "    presentation_encoder = pickle.load(file)"
   ]
  },
  {
   "cell_type": "markdown",
   "id": "8d35103b-e812-4ddd-925a-7e4749ca12ad",
   "metadata": {},
   "source": [
    "Funktion für die Vorverarbeitung des Prompts"
   ]
  },
  {
   "cell_type": "code",
   "execution_count": 8,
   "id": "187fac0a-6567-4c7d-a8fd-cd399ac95522",
   "metadata": {},
   "outputs": [],
   "source": [
    "# Funktion zur Bereinigung des Textes\n",
    "def clean_text(text):\n",
    "    # Überprüfen auf NaN-Werte\n",
    "    if pd.isna(text):\n",
    "        return text\n",
    "    # Entfernen von Sonderzeichen und Ziffern, behalten von Leerzeichen und Buchstaben\n",
    "    text = re.sub(r'[^A-Za-zäöüßÄÖÜ\\s]', '', text)\n",
    "    # Umwandlung in Kleinbuchstaben\n",
    "    text = text.lower()\n",
    "    # Ersetzen mehrfacher Leerzeichen durch ein einzelnes Leerzeichen\n",
    "    text = re.sub(r'\\s+', ' ', text)\n",
    "    # Entfernen von Leerzeichen am Anfang und Ende\n",
    "    text = text.strip()\n",
    "    return text"
   ]
  },
  {
   "cell_type": "markdown",
   "id": "86e3dba3",
   "metadata": {},
   "source": [
    "Durchführung der Vorhersage für die Labels"
   ]
  },
  {
   "cell_type": "code",
   "execution_count": 9,
   "id": "ca847fa3-c921-401a-94f2-32f1981536f0",
   "metadata": {},
   "outputs": [
    {
     "name": "stdout",
     "output_type": "stream",
     "text": [
      "1/1 [==============================] - 0s 284ms/step\n"
     ]
    }
   ],
   "source": [
    "USER_PROMPT = \"Hat der Auftrag 4711 einen Wareneingang?\"\n",
    "pre_user_prompt = clean_text(USER_PROMPT)\n",
    "\n",
    "# Vektorisierung des gereinigten Textes\n",
    "vectorized_test_text = tfidf_vectorizer.transform([pre_user_prompt]).toarray()\n",
    "\n",
    "# Modellvorhersage\n",
    "y_pred = model.predict(vectorized_test_text)"
   ]
  },
  {
   "cell_type": "markdown",
   "id": "499041ad",
   "metadata": {},
   "source": [
    "Vorhergesagte Werte in Klartext umwandeln"
   ]
  },
  {
   "cell_type": "code",
   "execution_count": 10,
   "id": "73443617-bcaa-4d4e-abd0-2a59dc14b78a",
   "metadata": {},
   "outputs": [],
   "source": [
    "# Single-Label-Vorhersagen interpretieren\n",
    "predicted_method = method_encoder.inverse_transform(np.argmax(y_pred[0], axis=1).reshape(-1))[0]\n",
    "predicted_endpoint = endpoint_encoder.inverse_transform(np.argmax(y_pred[1], axis=1).reshape(-1))[0]\n",
    "predicted_presentation = presentation_encoder.inverse_transform(np.argmax(y_pred[2], axis=1).reshape(-1))[0]\n",
    "\n",
    "threshold = 0.5\n",
    "# Multi-Label-Vorhersagen interpretieren\n",
    "predicted_required = mlb_required.inverse_transform((y_pred[3] > threshold).astype(int))[0]\n",
    "predicted_select = mlb_select.inverse_transform((y_pred[4] > threshold).astype(int))[0]\n",
    "predicted_filter = mlb_filter.inverse_transform((y_pred[5] > threshold).astype(int))[0]\n",
    "predicted_expand = mlb_expand.inverse_transform((y_pred[6] > threshold).astype(int))[0]\n",
    "predicted_expand_select = mlb_expand_select.inverse_transform((y_pred[7] > threshold).astype(int))[0]"
   ]
  },
  {
   "cell_type": "markdown",
   "id": "98aedd03-8a33-417e-a569-508467ca758f",
   "metadata": {},
   "source": [
    "Ausgabe der vorhergesagten Werte in einer JSON"
   ]
  },
  {
   "cell_type": "code",
   "execution_count": 15,
   "id": "bd40567f-a5ab-4975-a949-825bafbc6a63",
   "metadata": {},
   "outputs": [
    {
     "name": "stdout",
     "output_type": "stream",
     "text": [
      "Prompt: Hat der Auftrag 4711 einen Wareneingang?\n",
      "{\n",
      "    \"method\": \"GET\",\n",
      "    \"endpoint\": \"API_PRODUCTION_ORDER_2_SRV/A_ProductionOrder_2\",\n",
      "    \"presentation\": \"blank\",\n",
      "    \"required\": [\n",
      "        \"ManufacturingOrder\"\n",
      "    ],\n",
      "    \"select\": [\n",
      "        \"ManufacturingOrder\",\n",
      "        \"MfgOrderConfirmedYieldQty\",\n",
      "        \"OrderIsDelivered\",\n",
      "        \"OrderIsPartiallyDelivered\",\n",
      "        \"TotalQuantity\"\n",
      "    ],\n",
      "    \"filter\": [],\n",
      "    \"expand\": [],\n",
      "    \"expand_select\": []\n",
      "}\n"
     ]
    }
   ],
   "source": [
    "# Umwandlung der Vorhersagen in ein Dictionary\n",
    "prediction_results = {\n",
    "    \"method\": predicted_method,\n",
    "    \"endpoint\": predicted_endpoint,\n",
    "    \"presentation\": predicted_presentation,\n",
    "    \"required\": list(predicted_required),\n",
    "    \"select\": list(predicted_select),\n",
    "    \"filter\": list(predicted_filter),\n",
    "    \"expand\": list(predicted_expand),\n",
    "    \"expand_select\": list(predicted_expand_select)\n",
    "}\n",
    "\n",
    "# Umwandlung des Dictionaries in einen JSON-String\n",
    "json_results = json.dumps(prediction_results, indent=4)\n",
    "\n",
    "print(\"Prompt:\", USER_PROMPT)\n",
    "\n",
    "# Ausgabe der JSON-String\n",
    "print(json_results)"
   ]
  }
 ],
 "metadata": {
  "kernelspec": {
   "display_name": "Python 3 (ipykernel)",
   "language": "python",
   "name": "python3"
  },
  "language_info": {
   "codemirror_mode": {
    "name": "ipython",
    "version": 3
   },
   "file_extension": ".py",
   "mimetype": "text/x-python",
   "name": "python",
   "nbconvert_exporter": "python",
   "pygments_lexer": "ipython3",
   "version": "3.11.8"
  }
 },
 "nbformat": 4,
 "nbformat_minor": 5
}
